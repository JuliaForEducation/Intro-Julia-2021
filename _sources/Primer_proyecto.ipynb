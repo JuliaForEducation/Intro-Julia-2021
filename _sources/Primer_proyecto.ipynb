{
    "cells": [
    {
 	    "cell_type": "markdown", 
 	    "source": [ 
 		"# Primer proyecto" 
 	    ], 
 	    "metadata": {} 
	},
        {
            "cell_type": "markdown",
            "source": [
                "\n",
                "## Marco teórico\n",
                "Se escribirá un código para visualizar diferentes familias del conjunto de Julia y Mandelbrot, en el proceso se modelarán diversas formas biológicas. Ambos conjuntos se forman a partir del estudio de ciertas funciones, $f_c$, sobre las cuales se iteran los números complejos. La notación para la función, $f_c$, denota que ésta depende de un parámetro $c \\in C$.\n",
                "\n",
                "El conjunto de Julia $J_{f_c}$, para una constante $c$ particular, está formado por todos aquellos puntos del plano complejo en el cual la sucesión siguiente es acotada:\n",
                "\n",
                "$$z_0=z$$\n",
                "$$z_{n+1}=f_c(z_n)$$\n",
                "\n",
                "\n",
                "El conjunto de Mandelbrot $M_{f_c}$, de forma similar, está formado por el conjunto de puntos del plano complejo, en el cual $c$ pertenece al conjunto si la siguiente sucesión es acotada:\n",
                "\n",
                "$$z_0=0$$\n",
                "$$z_{n+1}=f_c(z_n)$$\n",
                "\n",
                "El conjunto de puntos que resulta de la sucesión, para cada $z$ implicado, se conoce como la órbita de $z$ por $f_c$. Para determinar los elementos de una familia del conjunto de $J_{f_c}$ y $M_{f_c}$, se utiliza un método iterativo, verificando el criterio convergencia siguiente, en cada paso de la iteración donde se obtiene un elemento de la órbita:\n",
                "\n",
                "$$|z_n|<2$$\n",
                "\n",
                "Si en algún punto de la iteración no se cumple el criterio, el punto del plano complejo analizado no pertenece al conjunto. \n",
                "\n",
                "El conjunto de Julia y Mandelbrot están dados por una familia muy popular de sistemas dinámicos complejos, esto es la familia de polinomios cuadráticos complejos:\n",
                "\n",
                "$$f_c(z)=z^2+c$$\n",
                "\n",
                "Formas biológicas han sido representadas mediante procesos iterativos, como el descrito anteriormente. Pero, empleando un conjunto de funciones $(f_c)$ más complejas que las estudiadas en los conjuntos de Julia y Mandelbrot. A continuación, se listan algunas de las funciones usadas para reproducir formas biológicas:\n",
                "\n",
                "$$f_1(z,c)=\\sin(z)+z^2+c$$\n",
                "$$f_2(z,c)=z^z+z^6+c$$\n",
                "$$f_3(z,c)=z^z+z^6+c$$\n",
                "$$f_4(z,c)=z^5+c$$\n",
                "$$f_5(z,c)=z^3+c$$\n",
                "\n",
                "La iteración es realizada hasta que la magnitud de la componente real e imaginaria de los elementos de la órbita sobrepasa un determinado valor $\\tau$ (un valor puede ser $\\tau=100$), esto significa que el proceso iterativo se mentiene mientras se cumpla que la parte real o imaginaria satisfacen la condición:\n",
                "\n",
                "$$|Re(z_n)|<\\tau$$ \n",
                "\n",
                "$$|Im(z_n)|<\\tau$$\n",
                "\n",
                "Una manera de graficar los conjuntos de Julia, Mandelbrot y las formas biológicas, es graficar solamente los puntos que pertenecen al conjunto con un color determinado (monocromático). \n",
                "\n",
                "Para agregar colores a los gráficos, generalmente se utiliza el algoritmo de: Tiempo de Escape, aunque no es el único. El algoritmo consiste en asignar un color dependiendo del número de iteraciones realizadas antes que el elemento de la órbita no satisfaga el criterio de convergencia. De esta manera se visualiza aquellos elementos que pertenecen al conjunto y los que no, además, revela la velocidad de divergencia de la órbita en cada punto. \n",
                "\n",
                "### Requisitos\n",
                "Para el desarrollo del proyecto deberá utilizar solamente los elementos abarcados en la primera semana del workshop, esto es, el uso de: estructuras de datos y control, tipos de datos primitivos del lenguaje. Por lo que **no utilizará** ningún paquete adicional, creado o desarrollado por la comunidad de Julia, a excepción del paquete Plots.\n",
                "\n",
                "Para completar este proyecto deberá realizar los siguientes items:\n",
                "1. Graficar un conjunto de Julia, para un $c$ arbitrario (monocromático). \n",
                "2. Graficar el conjunto de Mandelbrot (monocromático).\n",
                "3. Graficar una forma biológica, par un c arbitrario (monocromático).\n",
                "4. Hacer una gráfica a color del conjunto de Mandelbrot usando el algoritmo de Tiempo de Escape.\n",
                "5. Realizar una gráfica a color para un conjunto de Julia, para un $c$ arbitrario .\n",
                "6. Realizar una gráfica a color para una forma biológica.\n",
                "\n",
                "Para realizar las gráficas, deberá tomar en cuenta el uso de 'structs' para representar estructuras de datos particulares y también el uso de 'multiple dispatch'. \n",
                "\n",
                "### Criterios de Evaluación\n",
                "Durante la evaluación del proyecto se tomarán en cuenta los siguientes aspectos:\n",
                "- Cumplimiento de los requerimientos mencionados.\n",
                "- Claridad y orden el código presentado.\n",
                "- Completitud del proyecto, haciendo todas las partes que lo componen.\n",
                "- Analizar y comentar el trabajo de otros grupos (Mediante el peer review).\n",
                "\n"
            ],
            "metadata": {}
        },
        {
            "cell_type": "markdown",
            "source": [
                "\n",
                "## Bosquejo\n",
                "### Gráficas\n",
                "Para realizar las gráficas se utilizará el paquete Plots, por lo tanto el paquete debe ser importado:\n",
                "\n"
            ],
            "metadata": {}
        },
        {
            "outputs": [],
            "cell_type": "code",
            "source": [
                "using Plots\n",
                "",
                ""
            ],
            "metadata": {},
            "execution_count": 568
        },
        {
            "outputs": [],
            "cell_type": "code",
            "source": [
                "begin\n",
                "\tsize = 50\n",
                "\tPlots.default(size = (2200,2200),titlefontsize = size, tickfontsize = size, legendfontsize = size, guidefontsize = size, legendtitlefontsize = size)\n",
                "end\n",
                "",
                ""
            ],
            "metadata": {},
            "execution_count": 569
        },
        {
            "cell_type": "markdown",
            "source": [
                "\n",
                "A continuación se mostrarán ejemplos para realizar gráficas con el paquete, los cuales pueden usarse para mostrar las formas biológicas y los conjuntos de Julia y Mandelbrot, una vez se hayan obtenido los datos necesarios.\n",
                "\n",
                "Gráfico de números complejos:\n",
                "\n"
            ],
            "metadata": {}
        },
        {
            "outputs": [],
            "cell_type": "code",
            "source": [
                "begin\n",
                "\tr = 2\t\n",
                "\tzcomplejo = [r*cos(θ)+r*sin(θ)*im for θ in 0:0.3:2*pi]\n",
                "\tscatter(zcomplejo, seriescolor=:white,\n",
                "\t\t    markerstrokecolor=:blue,\n",
                "\t\t    aspectratio=1,\n",
                "\t\t    title=\"Gráfica de ejemplo\",\n",
                "\t\t\tlegend=false,\n",
                "\t\t\tmarkersize=40)\n",
                "end\n",
                "",
                ""
            ],
            "metadata": {},
            "execution_count": 570
        },
        {
            "cell_type": "markdown",
            "source": [
                "\n",
                "Para colorear los gráficos del conjunto de Julia, Mandelbrot y las formas biológicas, utilizando el algoritmo de Tiempo de Escape,  se pueden utilizar mapas de calor. \n",
                "\n"
            ],
            "metadata": {}
        },
        {
            "outputs": [],
            "cell_type": "code",
            "source": [
                "begin\n",
                "\tx = -2:0.3:2  \n",
                "\ty = -2:0.3:2\n",
                "\tcolores = [i₁*i₂ for i₁ in x, i₂ in y]\n",
                "\theatmap(x, y, colores, color=cgrad([:black,:blue,:white]), \n",
                "\t\t    title=\"Ejemplo Mapa de Calor\", xlabel=\"Re(z)\", ylabel=\"Im(z)\")\n",
                "end\n",
                "",
                ""
            ],
            "metadata": {},
            "execution_count": 571
        },
        {
            "cell_type": "markdown",
            "source": [
                "\n",
                "Para el mapa de calor, se necesita hacer una malla (las listas 'x' y 'y' del ejemplo anterior) y una matriz donde se guardan los valores que definen el color para cada punto de la malla.\n",
                "\n",
                "### Pseudocódigo\n",
                "Para clarificar los pasos a realizar, se muestra el siguiente algoritmo, cuando se desee obtener un gráfico con colores:\n",
                "\n",
                "*NOTAS:* \n",
                "- Se utilizan algunas funciones que pertenecen al core y base de Julia, si no conoce o intuye su uso averigue sobre la función mediante `?<nombre_función>` o `methods(<nombre_función>)`.\n",
                "- Usar `test_convergencia = b` para la creación de formas biológicas.\n",
                "- Las variables rz, iz son las componentes real imaginaria del número complejo respectivamente, que define un punto de la región del plano complejo por analizar.\n",
                "- La variable i es el contador del número de iteraciones.\n",
                "- c y z representan números complejos.\n",
                "\n",
                "~~~julia\n",
                "1  Para rz = -2:0.3:2 Hacer ##Elección del rango puede ser diferente\t\n",
                "2  \t  Para iz = -2:0.3:2 Hacer ##Elección del rango puede ser diferente\t\n",
                "3\t\tz = complex(rz,iz)\n",
                "4\t\t##La precisión de la imagen es mejor si incrementa las iteraciones\n",
                "5\t\tPara i = 1:30 \n",
                "6\t\t\tz = f(z) + c\n",
                "7\t\t\t##Se verfica que z = complex(rz,iz) esté en el conjunto\n",
                "8\t\t\t##T depende del conjunto que se desea graficar\n",
                "9\t\t\tSi abs(z) > T Entonces break Fin \n",
                "10\t   \tFin\n",
                "11\t\tcolor = i ##Indica la velocidad de divergencia de la orbita\n",
                "12\t\tSi test_convergencia = a Entonces \n",
                "13\t\t\tGraficar punto en (rz,iz,color) \n",
                "14\t\tFin\n",
                "15\t\tSi test_convergencia = b Entonces \n",
                "16\t\t\tSi real(z) < T || imag(z) < T Entonces\n",
                "17\t\t\t\tGraficar punto en (rz,iz,color) \n",
                "18\t\t\tFin\n",
                "19\t\tFin\n",
                "20\t  Fin\n",
                "21  Fin\n",
                "~~~\n",
                "\n"
            ],
            "metadata": {}
        },
        {
            "cell_type": "markdown",
            "source": [
                "\n",
                "## Solución\n",
                "\n"
            ],
            "metadata": {}
        },
        {
            "cell_type": "markdown",
            "source": [
                "\n",
                "La solución del problema planteado puede seguir un camino diferente, pero siempre basado en el algoritmo proporcionado. Para completar la parte obligatoria de este proyecto rellene las partes que están incompletas de este documento, tome en cuenta la signatura de las funciones descritas y lo que esta debe hacer. A medida avance en el documento haga uso de las definiciones previas donde sea conveniente.\n",
                "\n"
            ],
            "metadata": {}
        },
        {
            "cell_type": "markdown",
            "source": [
                "\n",
                "### Definición de objetos y funciones\n",
                "\n"
            ],
            "metadata": {}
        },
        {
            "cell_type": "markdown",
            "source": [
                "\n",
                "+ A continuación construya un struct `Grid` (Grilla), donde se defina la región del plano complejo que debe ser analizado (límites en las abcisas y ordenadas) y el espacio entre cada punto de la grilla.\n",
                "\n"
            ],
            "metadata": {}
        },
        {
            "outputs": [],
            "cell_type": "code",
            "source": [
                "\"\"\"*\n",
                " Representa un objeto grilla \n",
                "\"\"\"\n",
                "struct Grid{T<:Real}\n",
                "\t\n",
                "end\n",
                "",
                ""
            ],
            "metadata": {},
            "execution_count": 572
        },
        {
            "cell_type": "markdown",
            "source": [
                "\n",
                "+ Defina una función que cree una matriz de rangos para los ejes de las abcisas y ordenas. \n",
                "\n"
            ],
            "metadata": {}
        },
        {
            "outputs": [],
            "cell_type": "code",
            "source": [
                "\"\"\"\n",
                "\tmakeGrid(g::Grid)\n",
                "Crear una matriz de rangos [rango_abcisas,rango_ordenadas]\n",
                "\"\"\"\n",
                "function makeGrid(g::Grid)\n",
                "\t\n",
                "end\n",
                "",
                ""
            ],
            "metadata": {},
            "execution_count": 573
        },
        {
            "cell_type": "markdown",
            "source": [
                "\n",
                "+ Defina funciones de una línea para las formas biológicas y la familia de polinomios cuadráticos complejos \n",
                "\n"
            ],
            "metadata": {}
        },
        {
            "outputs": [],
            "cell_type": "code",
            "source": [
                "begin ##*\n",
                "\t\n",
                "end\n",
                "",
                ""
            ],
            "metadata": {},
            "execution_count": 574
        },
        {
            "cell_type": "markdown",
            "source": [
                "\n",
                "+ Defina una función que retorne `true` si el criterio de convergencia para los conjuntos $J_{_c}$ y $M_{f_c}$ se cumple, `false` en caso contrario.\n",
                "\n"
            ],
            "metadata": {}
        },
        {
            "outputs": [],
            "cell_type": "code",
            "source": [
                "\"\"\" *\n",
                "\ttestJM(z::Complex)\n",
                "Comprobar el criterio de convergencia para los conjuntos de Julia y Mandelbrot\n",
                "\"\"\"\n",
                "function testJM(z::Complex)\n",
                "\t\n",
                "end\n",
                "",
                ""
            ],
            "metadata": {},
            "execution_count": 575
        },
        {
            "cell_type": "markdown",
            "source": [
                "\n",
                "+ Defina una función que `true` si el criterio de convergencia para las formas biológicas se cumple, `false` en caso contrario.\n",
                "\n"
            ],
            "metadata": {}
        },
        {
            "outputs": [],
            "cell_type": "code",
            "source": [
                "\"\"\"\n",
                "\ttestbiomorph(z::Complex,τ::Real)\n",
                "Comprobar el criterio de convergencia para los conjuntos de Julia y Mandelbrot\n",
                "\"\"\"\n",
                "function testbiomorph(z::Complex,τ::Real)\n",
                "\t\n",
                "end\n",
                "",
                ""
            ],
            "metadata": {},
            "execution_count": 576
        },
        {
            "cell_type": "markdown",
            "source": [
                "\n",
                "+ Defina una función que itere un número sobre una función $f_c$ y devuelva true si se cumple el criterio de divergencia para $J_{f_c}$, $M_{f_c}$ y formas biológicas\n",
                "\n"
            ],
            "metadata": {}
        },
        {
            "outputs": [],
            "cell_type": "code",
            "source": [
                "\"\"\"\n",
                "\titerate(test::Function,f::Function,z::Complex,iter::Integer)\n",
                "Interar z sobre una funcion f\n",
                "\"\"\"\n",
                "function iterate(test::Function,f::Function,z::Complex,iter::Integer)\n",
                "\t\n",
                "end\n",
                "",
                ""
            ],
            "metadata": {},
            "execution_count": 577
        },
        {
            "cell_type": "markdown",
            "source": [
                "\n",
                "+ Defina un función que devuelva el número de iteraciones realizadas para un dado z (número complejo), hasta que se no se cumple el criterio de divergencia.\n",
                "\n"
            ],
            "metadata": {}
        },
        {
            "outputs": [],
            "cell_type": "code",
            "source": [
                "\"\"\"*\n",
                "\tcolormap(f::Function,test::Function,z::Complex,c::Complex,iter::Integer)\n",
                "Retornar el número de iteraciones para un valor dado de z minetras un criterio de convergencia sea válido\n",
                "\"\"\"\n",
                "function colormap(f::Function,test::Function,z::Complex,c::Complex,iter::Integer)\n",
                "\t\n",
                "end\n",
                "",
                ""
            ],
            "metadata": {},
            "execution_count": 578
        },
        {
            "cell_type": "markdown",
            "source": [
                "+ Usando multiple dispatch, defina nuevamente la función colormap agregando un nuevo parámetro de entrada $\\tau$, de modo que se pueda usar el test de convergencia para la forma biológica\n"
            ],
            "metadata": {}
        },
        {
            "outputs": [],
            "cell_type": "code",
            "source": [
                "function colormap(f::Function,test::Function,z::Complex,c::Complex,iter::Integer,τ::Integer)\n",
                "\t\n",
                "end\n",
                "",
                ""
            ],
            "metadata": {},
            "execution_count": 579
        },
        {
            "cell_type": "markdown",
            "source": [
                "\n",
                "#### Solución a los incisos\n",
                "\n"
            ],
            "metadata": {}
        },
        {
            "cell_type": "markdown",
            "source": [
                "\n",
                "Usando las definiciones anteriores realice lo indicado.\n",
                "\n"
            ],
            "metadata": {}
        },
        {
            "cell_type": "markdown",
            "source": [
                "\n",
                "##### 1) Graficar un conjunto de Julia, para un $c$ arbitrario (monocromático).\n",
                "\n"
            ],
            "metadata": {}
        },
        {
            "cell_type": "markdown",
            "source": [
                "\n",
                "+ Defina una funcion que retorne el conjunto de puntos que pertenecen al conjunto de Julia.\n",
                "\n"
            ],
            "metadata": {}
        },
        {
            "outputs": [],
            "cell_type": "code",
            "source": [
                "\"\"\"\n",
                "\tsetjulia()\n",
                "Construir un array con los puntos del plano complejo que pertenecen al conjunto, dada la región de análisis del plano complejo\n",
                "Entradas:\n",
                "- f::Function\n",
                "- test::Function\n",
                "- grid::Array{T,2} where T\n",
                "- c::Complex\n",
                "- iter::Integer\n",
                "\"\"\"\n",
                "function setjulia(\n",
                "\t\tf::Function,\n",
                "\t\ttest::Function,\n",
                "\t\tgrid::Array{T,2} where T,\n",
                "\t\tc::Complex,\n",
                "\t\titer::Integer)\n",
                "\t\n",
                "end\n",
                "",
                ""
            ],
            "metadata": {},
            "execution_count": 580
        },
        {
            "outputs": [],
            "cell_type": "code",
            "source": [
                "begin\n",
                "\t## Su código aquí\t\n",
                "end\n",
                "",
                ""
            ],
            "metadata": {},
            "execution_count": 581
        },
        {
            "cell_type": "markdown",
            "source": [
                "\n",
                "#### 2) Graficar el conjunto de Mandelbrot (monocromático).\n",
                "\n"
            ],
            "metadata": {}
        },
        {
            "cell_type": "markdown",
            "source": [
                "\n",
                "+ Defina una funcion que retorne el conjunto de puntos que pertenecen al conjunto de Mandelbrot\n",
                "\n"
            ],
            "metadata": {}
        },
        {
            "outputs": [],
            "cell_type": "code",
            "source": [
                "\"\"\"\n",
                "\tsetmandelbrot()\n",
                "Construir un array con los puntos del plano complejo que pertenecen al conjunto, dada la región de análisis del plano complejo\n",
                "Entradas:\n",
                "- f::Function\n",
                "- test::Function\n",
                "- grid::Array{T,2} where T\n",
                "- iter::Integer\n",
                "\"\"\"\n",
                "function setmandelbrot(\n",
                "\t\tf::Function,\n",
                "\t\ttest::Function,\n",
                "\t\tgrid::Array{T,2} where T,\n",
                "\t\titer::Integer)\n",
                "\t\n",
                "end\n",
                "",
                ""
            ],
            "metadata": {},
            "execution_count": 582
        },
        {
            "outputs": [],
            "cell_type": "code",
            "source": [
                "begin\n",
                "\t## Su código aquí\t\n",
                "end\n",
                "",
                ""
            ],
            "metadata": {},
            "execution_count": 583
        },
        {
            "cell_type": "markdown",
            "source": [
                "\n",
                "#### 3) Graficar una forma biológica, par un c arbitrario (monocromático).\n",
                "\n"
            ],
            "metadata": {}
        },
        {
            "cell_type": "markdown",
            "source": [
                "\n",
                "+ Defina una funcion que retorne el conjunto de puntos que pertenecen al conjunto de una forma biológica.\n",
                "\n"
            ],
            "metadata": {}
        },
        {
            "outputs": [],
            "cell_type": "code",
            "source": [
                "\"\"\"\n",
                "\tsetbiomorph()\n",
                "Construir un array con los puntos del plano complejo que pertenecen al conjunto, dada la región de análisis del plano complejo\n",
                "Entradas:\n",
                "- f::Function\n",
                "- test::Function\n",
                "- grid::Array{T,2} where T\n",
                "- c::Complex\n",
                "- iter::Integer\n",
                "- τ::Integer\n",
                "\"\"\"\n",
                "function setbiomorph(\n",
                "\t\tf::Function,\n",
                "\t\ttest::Function,\n",
                "\t\tgrid::Array{T,2} where T,\n",
                "\t\tc::Complex,\n",
                "\t\titer::Integer,\n",
                "\t\tτ::Integer)\n",
                "\t\n",
                "end\n",
                "",
                ""
            ],
            "metadata": {},
            "execution_count": 584
        },
        {
            "outputs": [],
            "cell_type": "code",
            "source": [
                "begin\n",
                "\t## Su código aquí\n",
                "end\n",
                "",
                ""
            ],
            "metadata": {},
            "execution_count": 585
        },
        {
            "cell_type": "markdown",
            "source": [
                "\n",
                "#### 4) Hacer una gráfica a color del conjunto de Mandelbrot \n",
                "\n",
                "Usando el algoritmo de Tiempo de Escape y multiple dispatch, defina nuevamente la función setmandelbrot, para obtener los datos necesarios (matriz) que defina los colores para cada punto de una región arbitraria. \n",
                "\n"
            ],
            "metadata": {}
        },
        {
            "outputs": [],
            "cell_type": "code",
            "source": [
                "\"\"\"\n",
                "\tsetmandelbrot(f::Function,test::Function,grid::Array{T,1} where T,iter::Integer)\n",
                "Crear una matriz de enteros correspondiente a los colores \n",
                "\"\"\"\n",
                "function setmandelbrot(\n",
                "\t\tf::Function,\n",
                "\t\ttest::Function,\n",
                "\t\tgrid::Array{T,1} where T,\n",
                "\t\titer::Integer\n",
                "\t)\n",
                "\t\n",
                "end\n",
                "",
                ""
            ],
            "metadata": {},
            "execution_count": 586
        },
        {
            "outputs": [],
            "cell_type": "code",
            "source": [
                "begin\n",
                "\t## Su código aquí\n",
                "end\n",
                "",
                ""
            ],
            "metadata": {},
            "execution_count": 587
        },
        {
            "cell_type": "markdown",
            "source": [
                "\n",
                "#### 5) Realizar una gráfica a color para un conjunto de Julia, para un $c$ arbitrario.\n",
                "\n",
                "Usando el algoritmo de Tiempo de Escape y multiple dispatch, defina nuevamente la función setjulia, para obtener los datos necesarios (matriz) que defina los colores para cada punto de una región arbitraria. \n",
                "\n"
            ],
            "metadata": {}
        },
        {
            "outputs": [],
            "cell_type": "code",
            "source": [
                "begin\n",
                "\t## Su código aquí\t\n",
                "end\n",
                "",
                ""
            ],
            "metadata": {},
            "execution_count": 588
        },
        {
            "cell_type": "markdown",
            "source": [
                "\n",
                "#### 6) Realizar una gráfica a color para una forma biológica.\n",
                "\n",
                "Usando el algoritmo de Tiempo de Escape y multiple dispatch, defina nuevamente la función setbiomorph, para obtener los datos necesarios (matriz) que defina los colores para cada punto de una región arbitraria.\n",
                "\n"
            ],
            "metadata": {}
        },
        {
            "outputs": [],
            "cell_type": "code",
            "source": [
                "begin\n",
                "\t## Su código aquí\t\n",
                "end\n",
                "",
                ""
            ],
            "metadata": {},
            "execution_count": 589
        },
        {
            "cell_type": "markdown",
            "source": [
                "\n",
                "#### 7) Completar un ejercicio que forma parte de los challenge problems.\n",
                "\n"
            ],
            "metadata": {}
        }
    ],
    "nbformat_minor": 2,
    "metadata": {
        "language_info": {
            "file_extension": ".jl",
            "mimetype": "application/julia",
            "name": "julia",
            "version": "1.5.1"
        },
        "kernelspec": {
            "name": "julia-1.5",
            "display_name": "Julia 1.5.1",
            "language": "julia"
        }
    },
    "nbformat": 4
}
